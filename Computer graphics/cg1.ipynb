{
 "cells": [
  {
   "cell_type": "code",
   "execution_count": 1,
   "id": "2edeea09",
   "metadata": {},
   "outputs": [],
   "source": [
    "import glfw"
   ]
  },
  {
   "cell_type": "code",
   "execution_count": 2,
   "id": "cac2cb45",
   "metadata": {},
   "outputs": [],
   "source": [
    "if not glfw.init():\n",
    "    raise Exception(\"glfw can't be initiated\")\n",
    "window = glfw.create_window(1280, 720, \"Hello World\",None,None)"
   ]
  },
  {
   "cell_type": "code",
   "execution_count": 3,
   "id": "4e75c43b",
   "metadata": {},
   "outputs": [],
   "source": [
    "if not window:\n",
    "    glfw.terminate()\n",
    "    raise Exception(\"glfw window can't be created\")\n",
    "glfw.set_window_pos(window,400,200)\n",
    "glfw.make_context_current(window)\n",
    "while not glfw.window_should_close(window):\n",
    "    glfw.poll_events()\n",
    "    glfw.swap_buffers(window)\n",
    "glfw.terminate()"
   ]
  }
 ],
 "metadata": {
  "kernelspec": {
   "display_name": "Python 3 (ipykernel)",
   "language": "python",
   "name": "python3"
  },
  "language_info": {
   "codemirror_mode": {
    "name": "ipython",
    "version": 3
   },
   "file_extension": ".py",
   "mimetype": "text/x-python",
   "name": "python",
   "nbconvert_exporter": "python",
   "pygments_lexer": "ipython3",
   "version": "3.9.7"
  }
 },
 "nbformat": 4,
 "nbformat_minor": 5
}
