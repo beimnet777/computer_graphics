{
 "cells": [
  {
   "cell_type": "code",
   "execution_count": 1,
   "id": "26ff3a32",
   "metadata": {},
   "outputs": [],
   "source": [
    "import numpy as np\n"
   ]
  },
  {
   "cell_type": "code",
   "execution_count": 2,
   "id": "07732d87",
   "metadata": {},
   "outputs": [
    {
     "name": "stdout",
     "output_type": "stream",
     "text": [
      "[2 4 5]\n"
     ]
    }
   ],
   "source": [
    "print(np.array([2,4,5]))"
   ]
  },
  {
   "cell_type": "code",
   "execution_count": 3,
   "id": "223b5da1",
   "metadata": {},
   "outputs": [],
   "source": [
    "arr1 = np.array([[[1, 2, 3], [4, 5, 6]], [[1, 2, 3],[4, 5, 6]]])"
   ]
  },
  {
   "cell_type": "code",
   "execution_count": 7,
   "id": "bd2fb366",
   "metadata": {},
   "outputs": [
    {
     "data": {
      "text/plain": [
       "array([[1., 1.],\n",
       "       [1., 1.]])"
      ]
     },
     "execution_count": 7,
     "metadata": {},
     "output_type": "execute_result"
    }
   ],
   "source": [
    "arr2=np.ones((2,2))\n",
    "arr2"
   ]
  },
  {
   "cell_type": "code",
   "execution_count": 8,
   "id": "e602c842",
   "metadata": {},
   "outputs": [
    {
     "data": {
      "text/plain": [
       "array([[0., 0.],\n",
       "       [0., 0.]])"
      ]
     },
     "execution_count": 8,
     "metadata": {},
     "output_type": "execute_result"
    }
   ],
   "source": [
    "arr0=np.zeros((2,2))\n",
    "arr0"
   ]
  },
  {
   "cell_type": "code",
   "execution_count": 9,
   "id": "05ea0518",
   "metadata": {},
   "outputs": [
    {
     "data": {
      "text/plain": [
       "array([[[1, 1, 1],\n",
       "        [1, 1, 1]],\n",
       "\n",
       "       [[1, 1, 1],\n",
       "        [1, 1, 1]]])"
      ]
     },
     "execution_count": 9,
     "metadata": {},
     "output_type": "execute_result"
    }
   ],
   "source": [
    "arr1_like=np.ones_like(arr1)\n",
    "arr1_like"
   ]
  },
  {
   "cell_type": "code",
   "execution_count": 10,
   "id": "fb019401",
   "metadata": {},
   "outputs": [
    {
     "data": {
      "text/plain": [
       "array([[0., 0.],\n",
       "       [0., 0.]])"
      ]
     },
     "execution_count": 10,
     "metadata": {},
     "output_type": "execute_result"
    }
   ],
   "source": [
    "arr2_like=np.zeros_like(arr2)\n",
    "arr2_like"
   ]
  },
  {
   "cell_type": "code",
   "execution_count": 14,
   "id": "d103ab15",
   "metadata": {},
   "outputs": [
    {
     "data": {
      "text/plain": [
       "array([[1, 3],\n",
       "       [4, 3]])"
      ]
     },
     "execution_count": 14,
     "metadata": {},
     "output_type": "execute_result"
    }
   ],
   "source": [
    "rand_arr=np.random.randint(10, size = (2,2))\n",
    "rand_arr"
   ]
  },
  {
   "cell_type": "code",
   "execution_count": 15,
   "id": "bbeed505",
   "metadata": {},
   "outputs": [
    {
     "data": {
      "text/plain": [
       "array([[0.72194139, 0.89815502],\n",
       "       [0.69707452, 0.96069329]])"
      ]
     },
     "execution_count": 15,
     "metadata": {},
     "output_type": "execute_result"
    }
   ],
   "source": [
    "rand_arr_2=np.random.random((2,2))\n",
    "rand_arr_2"
   ]
  },
  {
   "cell_type": "code",
   "execution_count": 16,
   "id": "706a769d",
   "metadata": {},
   "outputs": [
    {
     "data": {
      "text/plain": [
       "array([[1., 1.],\n",
       "       [1., 1.],\n",
       "       [0., 0.],\n",
       "       [0., 0.]])"
      ]
     },
     "execution_count": 16,
     "metadata": {},
     "output_type": "execute_result"
    }
   ],
   "source": [
    "concat_arr_1=np.concatenate((arr2, arr0), axis=0)\n",
    "concat_arr_1"
   ]
  },
  {
   "cell_type": "code",
   "execution_count": 17,
   "id": "84580da6",
   "metadata": {},
   "outputs": [
    {
     "data": {
      "text/plain": [
       "array([[1., 1., 0., 0.],\n",
       "       [1., 1., 0., 0.]])"
      ]
     },
     "execution_count": 17,
     "metadata": {},
     "output_type": "execute_result"
    }
   ],
   "source": [
    "concat_arr_2=np.concatenate((arr2, arr0), axis=1)\n",
    "concat_arr_2"
   ]
  },
  {
   "cell_type": "code",
   "execution_count": 19,
   "id": "059e87af",
   "metadata": {},
   "outputs": [
    {
     "data": {
      "text/plain": [
       "array([ 5,  6,  7,  8,  9, 10, 11])"
      ]
     },
     "execution_count": 19,
     "metadata": {},
     "output_type": "execute_result"
    }
   ],
   "source": [
    "arranged=np.arange(5,12)\n",
    "arranged"
   ]
  },
  {
   "cell_type": "code",
   "execution_count": 23,
   "id": "f69c1442",
   "metadata": {},
   "outputs": [
    {
     "data": {
      "text/plain": [
       "array([1, 1])"
      ]
     },
     "execution_count": 23,
     "metadata": {},
     "output_type": "execute_result"
    }
   ],
   "source": [
    "x=np.array([1,1.1])\n",
    "x.astype(int)\n"
   ]
  },
  {
   "cell_type": "code",
   "execution_count": 27,
   "id": "7df17aed",
   "metadata": {},
   "outputs": [
    {
     "data": {
      "text/plain": [
       "array([[1, 4],\n",
       "       [3, 3]])"
      ]
     },
     "execution_count": 27,
     "metadata": {},
     "output_type": "execute_result"
    }
   ],
   "source": [
    "transposed_arr=np.transpose(rand_arr)\n",
    "transposed_arr"
   ]
  },
  {
   "cell_type": "code",
   "execution_count": 31,
   "id": "fc57c1f3",
   "metadata": {},
   "outputs": [
    {
     "data": {
      "text/plain": [
       "array([[1],\n",
       "       [3],\n",
       "       [4],\n",
       "       [3]])"
      ]
     },
     "execution_count": 31,
     "metadata": {},
     "output_type": "execute_result"
    }
   ],
   "source": [
    "reshaped_arr=rand_arr.reshape((4,1))\n",
    "reshaped_arr"
   ]
  },
  {
   "cell_type": "code",
   "execution_count": 32,
   "id": "eb17f51f",
   "metadata": {},
   "outputs": [
    {
     "data": {
      "text/plain": [
       "array([0.72194139, 0.89815502, 0.69707452, 0.96069329])"
      ]
     },
     "execution_count": 32,
     "metadata": {},
     "output_type": "execute_result"
    }
   ],
   "source": [
    "flattened=rand_arr_2.flatten()\n",
    "flattened"
   ]
  },
  {
   "cell_type": "code",
   "execution_count": 34,
   "id": "1904dc6e",
   "metadata": {},
   "outputs": [
    {
     "data": {
      "text/plain": [
       "array([[[0.0279184 , 0.99287485, 0.95200076, 0.19753474, 0.29915748],\n",
       "        [0.18250095, 0.38851472, 0.04712649, 0.0630394 , 0.83945267],\n",
       "        [0.14769946, 0.38882807, 0.91739424, 0.16287734, 0.98084004],\n",
       "        [0.17722968, 0.19996993, 0.77684223, 0.58528612, 0.87292118]],\n",
       "\n",
       "       [[0.50266242, 0.83885919, 0.43200373, 0.85253754, 0.06747529],\n",
       "        [0.29733389, 0.70244631, 0.09229942, 0.56079402, 0.29297083],\n",
       "        [0.21685449, 0.38587562, 0.84508583, 0.80538096, 0.64989421],\n",
       "        [0.5112759 , 0.48340666, 0.84742246, 0.49395076, 0.18554499]],\n",
       "\n",
       "       [[0.95823163, 0.43702443, 0.17609339, 0.78174236, 0.4597387 ],\n",
       "        [0.10013054, 0.44073024, 0.05652308, 0.05143307, 0.62151571],\n",
       "        [0.07711549, 0.49854386, 0.58259477, 0.40744276, 0.08249458],\n",
       "        [0.67293374, 0.54856977, 0.02269999, 0.33314259, 0.68364917]]])"
      ]
     },
     "execution_count": 34,
     "metadata": {},
     "output_type": "execute_result"
    }
   ],
   "source": [
    "array=np.random.random((3,4,5))\n",
    "array"
   ]
  },
  {
   "cell_type": "code",
   "execution_count": 35,
   "id": "c6c9d146",
   "metadata": {},
   "outputs": [
    {
     "name": "stdout",
     "output_type": "stream",
     "text": [
      "0.027918396678147772\n"
     ]
    }
   ],
   "source": [
    "print( array[0][0][0])"
   ]
  },
  {
   "cell_type": "code",
   "execution_count": 36,
   "id": "b40fd2ac",
   "metadata": {},
   "outputs": [
    {
     "name": "stdout",
     "output_type": "stream",
     "text": [
      "0.8053809604390061\n"
     ]
    }
   ],
   "source": [
    "print( array[1,2,3])"
   ]
  },
  {
   "cell_type": "code",
   "execution_count": 37,
   "id": "f594e070",
   "metadata": {},
   "outputs": [
    {
     "name": "stdout",
     "output_type": "stream",
     "text": [
      "0.6836491718670133\n"
     ]
    }
   ],
   "source": [
    "print( array[-1,-1][-1])"
   ]
  },
  {
   "cell_type": "code",
   "execution_count": 40,
   "id": "30b11489",
   "metadata": {},
   "outputs": [
    {
     "data": {
      "text/plain": [
       "array([[ 36,  42,  48],\n",
       "       [ 81,  96, 111],\n",
       "       [126, 150, 174]])"
      ]
     },
     "execution_count": 40,
     "metadata": {},
     "output_type": "execute_result"
    }
   ],
   "source": [
    "a1 = np.array([[1,2,3],[4,5,6],[7,8,9]])\n",
    "b1 = np.array([[2,3,4],[5,6,7],[8,9,10]])\n",
    "o = np.matmul(a1, b1)\n",
    "o"
   ]
  },
  {
   "cell_type": "code",
   "execution_count": 41,
   "id": "788f46f8",
   "metadata": {},
   "outputs": [
    {
     "data": {
      "text/plain": [
       "array([[ 36,  42,  48],\n",
       "       [ 81,  96, 111],\n",
       "       [126, 150, 174]])"
      ]
     },
     "execution_count": 41,
     "metadata": {},
     "output_type": "execute_result"
    }
   ],
   "source": [
    "o1 = np.dot(a1,b1)\n",
    "o1"
   ]
  },
  {
   "cell_type": "code",
   "execution_count": 42,
   "id": "d8924e30",
   "metadata": {},
   "outputs": [
    {
     "data": {
      "text/plain": [
       "330"
      ]
     },
     "execution_count": 42,
     "metadata": {},
     "output_type": "execute_result"
    }
   ],
   "source": [
    "o2 = np.vdot(a1,b1)\n",
    "o2"
   ]
  },
  {
   "cell_type": "code",
   "execution_count": null,
   "id": "f293d4b6",
   "metadata": {},
   "outputs": [],
   "source": []
  }
 ],
 "metadata": {
  "kernelspec": {
   "display_name": "Python 3 (ipykernel)",
   "language": "python",
   "name": "python3"
  },
  "language_info": {
   "codemirror_mode": {
    "name": "ipython",
    "version": 3
   },
   "file_extension": ".py",
   "mimetype": "text/x-python",
   "name": "python",
   "nbconvert_exporter": "python",
   "pygments_lexer": "ipython3",
   "version": "3.9.7"
  }
 },
 "nbformat": 4,
 "nbformat_minor": 5
}
